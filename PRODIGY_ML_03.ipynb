{
  "nbformat": 4,
  "nbformat_minor": 0,
  "metadata": {
    "colab": {
      "provenance": []
    },
    "kernelspec": {
      "name": "python3",
      "display_name": "Python 3"
    },
    "language_info": {
      "name": "python"
    }
  },
  "cells": [
    {
      "cell_type": "code",
      "execution_count": 1,
      "metadata": {
        "colab": {
          "base_uri": "https://localhost:8080/"
        },
        "id": "vESqcuHq5q3R",
        "outputId": "af52aca8-09ca-4f71-9f78-1cb93e98f591"
      },
      "outputs": [
        {
          "output_type": "stream",
          "name": "stdout",
          "text": [
            "Requirement already satisfied: opencv-python in /usr/local/lib/python3.11/dist-packages (4.11.0.86)\n",
            "Requirement already satisfied: opencv-python-headless in /usr/local/lib/python3.11/dist-packages (4.11.0.86)\n",
            "Requirement already satisfied: joblib in /usr/local/lib/python3.11/dist-packages (1.5.1)\n",
            "Requirement already satisfied: scikit-learn in /usr/local/lib/python3.11/dist-packages (1.6.1)\n",
            "Requirement already satisfied: numpy in /usr/local/lib/python3.11/dist-packages (2.0.2)\n",
            "Requirement already satisfied: scipy>=1.6.0 in /usr/local/lib/python3.11/dist-packages (from scikit-learn) (1.15.3)\n",
            "Requirement already satisfied: threadpoolctl>=3.1.0 in /usr/local/lib/python3.11/dist-packages (from scikit-learn) (3.6.0)\n"
          ]
        }
      ],
      "source": [
        "pip install opencv-python opencv-python-headless joblib scikit-learn numpy"
      ]
    },
    {
      "cell_type": "code",
      "source": [
        "from google.colab import drive\n",
        "drive.mount('/content/drive')\n"
      ],
      "metadata": {
        "colab": {
          "base_uri": "https://localhost:8080/"
        },
        "id": "NM6scMO_52fQ",
        "outputId": "47c4996a-2f30-4509-9611-09074957728c"
      },
      "execution_count": 2,
      "outputs": [
        {
          "output_type": "stream",
          "name": "stdout",
          "text": [
            "Mounted at /content/drive\n"
          ]
        }
      ]
    },
    {
      "cell_type": "code",
      "source": [
        "import zipfile\n",
        "\n",
        "\n",
        "zip_path = '/content/drive/MyDrive/Prodigy/training_set.zip'\n",
        "\n",
        "\n",
        "with zipfile.ZipFile(zip_path, 'r') as zip_ref:\n",
        "    zip_ref.extractall('./training_set')\n",
        ""
      ],
      "metadata": {
        "id": "33ojtQ676DVY"
      },
      "execution_count": 24,
      "outputs": []
    },
    {
      "cell_type": "code",
      "source": [
        "import os\n",
        "import cv2\n",
        "import numpy as np\n",
        "from sklearn.model_selection import train_test_split\n",
        "from sklearn.svm import SVC\n",
        "from sklearn.metrics import classification_report, accuracy_score\n",
        "import joblib"
      ],
      "metadata": {
        "id": "Hfmnx5kd8tF9"
      },
      "execution_count": 23,
      "outputs": []
    },
    {
      "cell_type": "code",
      "source": [
        "def load_images_with_downsampling(folder_path, img_size, num_samples_per_class):\n",
        "\n",
        "    data, labels = [], []\n",
        "    cat_count, dog_count = 0, 0\n",
        "\n",
        "    for img_name in os.listdir(folder_path):\n",
        "        if 'cat' in img_name and cat_count < num_samples_per_class:\n",
        "            label = 0\n",
        "            cat_count += 1\n",
        "        elif 'dog' in img_name and dog_count < num_samples_per_class:\n",
        "            label = 1\n",
        "            dog_count += 1\n",
        "        else:\n",
        "            continue\n",
        "\n",
        "        img_path = os.path.join(folder_path, img_name)\n",
        "        try:\n",
        "            img = cv2.imread(img_path)\n",
        "            img = cv2.resize(img, (img_size, img_size))\n",
        "            img = img.flatten()\n",
        "\n",
        "            data.append(img)\n",
        "            labels.append(label)\n",
        "        except Exception as e:\n",
        "            print(f\"Error reading {img_name}: {e}\")\n",
        "\n",
        "    return np.array(data), np.array(labels)\n"
      ],
      "metadata": {
        "id": "_arBlJLJ83Ak"
      },
      "execution_count": 22,
      "outputs": []
    },
    {
      "cell_type": "code",
      "source": [
        "FOLDER_PATH = '/content/training_set/training_set/training_set'\n",
        "IMG_SIZE = 64\n",
        "NUM_SAMPLES_PER_CLASS = 2500"
      ],
      "metadata": {
        "id": "csqvw3bW86FA"
      },
      "execution_count": 34,
      "outputs": []
    },
    {
      "cell_type": "code",
      "source": [
        "def load_images_from_subfolders(folder_path, img_size, num_samples_per_class):\n",
        "    data, labels = [], []\n",
        "    class_map = {'cats': 0, 'dogs': 1}\n",
        "\n",
        "    for class_folder in os.listdir(folder_path):\n",
        "        class_path = os.path.join(folder_path, class_folder)\n",
        "        if not os.path.isdir(class_path):\n",
        "            continue\n",
        "\n",
        "        count = 0\n",
        "        for img_name in os.listdir(class_path):\n",
        "            if count >= num_samples_per_class:\n",
        "                break\n",
        "\n",
        "            img_path = os.path.join(class_path, img_name)\n",
        "            try:\n",
        "                img = cv2.imread(img_path)\n",
        "                img = cv2.resize(img, (img_size, img_size))\n",
        "                img = img.flatten()\n",
        "                data.append(img)\n",
        "                labels.append(class_map[class_folder])\n",
        "                count += 1\n",
        "            except Exception as e:\n",
        "                print(f\"Error reading {img_name}: {e}\")\n",
        "\n",
        "    return np.array(data), np.array(labels)\n",
        "\n",
        "X, y = load_images_from_subfolders(FOLDER_PATH, IMG_SIZE, NUM_SAMPLES_PER_CLASS)\n",
        "\n",
        "if X.size == 0 or y.size == 0:\n",
        "    print(\"Error: Dataset is empty. Please check the folder path or file contents.\")\n",
        "else:\n",
        "    X = X / 255.0\n",
        "    print(f\"Dataset Size: {X.shape[0]} images\")\n",
        "    print(f\"Labels Shape: {y.shape}\")"
      ],
      "metadata": {
        "colab": {
          "base_uri": "https://localhost:8080/"
        },
        "id": "tx5gF2lxAQFI",
        "outputId": "3a8b5f33-cedd-40ea-bb1b-c8f348634690"
      },
      "execution_count": 36,
      "outputs": [
        {
          "output_type": "stream",
          "name": "stdout",
          "text": [
            "Error reading _DS_Store: OpenCV(4.11.0) /io/opencv/modules/imgproc/src/resize.cpp:4208: error: (-215:Assertion failed) !ssize.empty() in function 'resize'\n",
            "\n",
            "Error reading _DS_Store: OpenCV(4.11.0) /io/opencv/modules/imgproc/src/resize.cpp:4208: error: (-215:Assertion failed) !ssize.empty() in function 'resize'\n",
            "\n",
            "Dataset Size: 5000 images\n",
            "Labels Shape: (5000,)\n"
          ]
        }
      ]
    },
    {
      "cell_type": "code",
      "source": [
        "X_train, X_test, y_train, y_test = train_test_split(X, y, test_size=0.2, random_state=42)\n",
        "\n",
        "\n",
        "print(f\"Training Set Size: {X_train.shape[0]}\")\n",
        "print(f\"Testing Set Size: {X_test.shape[0]}\")\n",
        ""
      ],
      "metadata": {
        "colab": {
          "base_uri": "https://localhost:8080/"
        },
        "id": "115zUiWB-KQ-",
        "outputId": "e0f9b585-7b69-4198-d388-bcd17e911153"
      },
      "execution_count": 37,
      "outputs": [
        {
          "output_type": "stream",
          "name": "stdout",
          "text": [
            "Training Set Size: 4000\n",
            "Testing Set Size: 1000\n"
          ]
        }
      ]
    },
    {
      "cell_type": "code",
      "source": [
        "print(\"\\nTraining the SVM model...\")\n",
        "svm = SVC(kernel='rbf', C=1, gamma='scale')\n",
        "svm.fit(X_train, y_train)\n",
        "print(\"Training Complete!\")"
      ],
      "metadata": {
        "colab": {
          "base_uri": "https://localhost:8080/"
        },
        "id": "mpTY-fhTAfJ1",
        "outputId": "fb309d08-f29d-4c72-f060-f12501cfccc3"
      },
      "execution_count": 38,
      "outputs": [
        {
          "output_type": "stream",
          "name": "stdout",
          "text": [
            "\n",
            "Training the SVM model...\n",
            "Training Complete!\n"
          ]
        }
      ]
    },
    {
      "cell_type": "code",
      "source": [
        "y_pred = svm.predict(X_test)\n",
        "print(\"\\nClassification Report:\")\n",
        "print(classification_report(y_test, y_pred))\n",
        "print(f\"Accuracy: {accuracy_score(y_test, y_pred) * 100:.2f}%\")"
      ],
      "metadata": {
        "colab": {
          "base_uri": "https://localhost:8080/"
        },
        "id": "veJnpMYWAmJJ",
        "outputId": "f678f337-1fa2-4695-df3b-d3878fde032f"
      },
      "execution_count": 39,
      "outputs": [
        {
          "output_type": "stream",
          "name": "stdout",
          "text": [
            "\n",
            "Classification Report:\n",
            "              precision    recall  f1-score   support\n",
            "\n",
            "           0       0.65      0.62      0.63       500\n",
            "           1       0.64      0.67      0.65       500\n",
            "\n",
            "    accuracy                           0.64      1000\n",
            "   macro avg       0.64      0.64      0.64      1000\n",
            "weighted avg       0.64      0.64      0.64      1000\n",
            "\n",
            "Accuracy: 64.30%\n"
          ]
        }
      ]
    },
    {
      "cell_type": "code",
      "source": [
        "joblib.dump(svm, '/content/drive/MyDrive/svm_model.pkl')"
      ],
      "metadata": {
        "colab": {
          "base_uri": "https://localhost:8080/"
        },
        "id": "vyq7pF1fAp1c",
        "outputId": "0a93d32d-b2c6-484a-c83f-74bfa31fda03"
      },
      "execution_count": 40,
      "outputs": [
        {
          "output_type": "execute_result",
          "data": {
            "text/plain": [
              "['/content/drive/MyDrive/svm_model.pkl']"
            ]
          },
          "metadata": {},
          "execution_count": 40
        }
      ]
    },
    {
      "cell_type": "code",
      "source": [
        "try:\n",
        "    svm = joblib.load('/content/drive/MyDrive/svm_model.pkl')\n",
        "except FileNotFoundError:\n",
        "    print(\"Model file not found. Please check the file path.\")"
      ],
      "metadata": {
        "id": "9BfeRZV4AtcQ"
      },
      "execution_count": 41,
      "outputs": []
    }
  ]
}